{
 "cells": [
  {
   "attachments": {},
   "cell_type": "markdown",
   "metadata": {},
   "source": [
    "# Python's Core Data types \n",
    "## Immutables (numbers, strings, tuples, frozensets)\n",
    "## Mutables (lists, dictionaries, sets, bytearray)\n",
    "\n",
    "## Numbers (immutable)\n",
    "\n",
    "### Integers\n"
   ]
  },
  {
   "cell_type": "code",
   "execution_count": null,
   "metadata": {},
   "outputs": [],
   "source": [
    "a = 12\n",
    "print('hex(id(a))', hex(id(a))) # id ret identity of an obj; here it's an address\n",
    "a = 14\n",
    "print('hex(id(a))', hex(id(a))) # id ret identity of an obj; here it's an address\n",
    "#size of object\n",
    "\n",
    "import sys\n",
    "print ('int obj size',sys.getsizeof(a) )\n",
    "#\n",
    "\n",
    "a = 123 + 222\n",
    "print('123 + 222 = ',a) # use print function to print each value\n",
    "b = 1.5 * 4\n",
    "print('1.5 * 4 = ',b)\n",
    "c = 2 ** 100\n",
    "print('2 ** 100 = ',c)\n",
    "e = 13 / 2 #Classic and true division\n",
    "print('13 / 2 = ',e)\n",
    "f = 13 // 2\n",
    "print('13 // 2 = ',f)\n",
    "f = 13.0 // 2 # floor division; res depends on operands\n",
    "print('13.0 // 2 = ',f)\n",
    "# negative numbers\n",
    "e = -13 / 2 #Classic and true division\n",
    "print('-13 / 2 = ',e)\n",
    "f = 13 // 2\n",
    "print('13 // 2 = ', f)\n",
    "f = -13.0 // 2 # floor division; res depends on operands\n",
    "print('-13.0 // 2 = ',f)\n",
    "print((5 / 2), (5 / 2.0), (5 / -2.0), (5 / -2))\n",
    "print((5 // 2), (5 // 2.0), (5 // -2.0), (5 // -2))\n",
    "print('5 % 2 = ',5 % 2)\n",
    "\n",
    "#Chained comparisons\n",
    "x = 1\n",
    "y = 2\n",
    "z = 3\n",
    "print(x < y < z)\n",
    "print(x < y and y < z)# equivalent to above\n",
    "print(2 == y != z)\n",
    "#\n",
    "import math\n",
    "print ( math.trunc(2.5) )\n",
    "print ( math.trunc(-2.5) )\n",
    "print ( math.floor(2.5) )\n",
    "print ( math.floor(-2.5) )\n",
    "\n",
    "#Integer Precision\n",
    "print(999999999999999999999999999999+ 9999999999999)\n",
    "print('integer length = ',len ( str(999999999999999999999999999999+ 9999999999999)))\n",
    "print('type = ',type(999999999999999999999999999999+ 9999999999999))\n",
    "print('dec hex oct bin', 15,0xF,0o17,0b1111)\n",
    "#bitwise operatons <<, >> , &, |, ^\n"
   ]
  },
  {
   "attachments": {},
   "cell_type": "markdown",
   "metadata": {},
   "source": [
    "### Floating point numbers"
   ]
  },
  {
   "cell_type": "code",
   "execution_count": 2,
   "metadata": {},
   "outputs": [
    {
     "name": "stdout",
     "output_type": "stream",
     "text": [
      "6.283\n"
     ]
    }
   ],
   "source": [
    "d = 3.1415 * 2\n",
    "print(d)\n"
   ]
  },
  {
   "attachments": {},
   "cell_type": "markdown",
   "metadata": {},
   "source": [
    "### Strings (Immutable)\n",
    "Strings are sequences (a positionally ordered collection) of one-character strings; other, more general sequence types include lists and tuples"
   ]
  },
  {
   "cell_type": "code",
   "execution_count": 2,
   "metadata": {},
   "outputs": [
    {
     "name": "stdout",
     "output_type": "stream",
     "text": [
      "this is \n",
      "multline string\n"
     ]
    },
    {
     "data": {
      "text/plain": [
       "'\\nhelp(str.count)\\nhelp(dir)\\nhelp(str.find)\\n'"
      ]
     },
     "execution_count": 2,
     "metadata": {},
     "output_type": "execute_result"
    }
   ],
   "source": [
    "S = 'Spam' # \"\" or \"\"\" multi-line string \"\"\" or ''' multi-line string '''; use triple quotes to disable multi-line code temporarily\n",
    "\n",
    "st = \"\"\"this is \n",
    "multline string\"\"\"\n",
    "print(st) \n",
    "'''   \n",
    "escape = \"s\\tp\\na\\0m\"\n",
    "print(escape)\n",
    "raw = r\"C:\\new\\test.dat\" #Raw Strings Suppress Escapes or use 'C:\\\\new\\\\text.dat'\n",
    "print(raw) \n",
    "nul = 'a\\0b\\0c' # null char does not terminate str\n",
    "print(nul)  \n",
    "print('Basic operations') \n",
    "l = len('Muhammad Abid Mughal')\n",
    "name = 'Muhammad Abid ' + 'Mughal'\n",
    "print(l,name)\n",
    "print(\"Abid\" in \"Muhammad Abid\")\n",
    "print('*' * 80) # Repetition\n",
    "\n",
    "print('Indexing and Slicing')\n",
    "s = 'spam'\n",
    "print(s[0],s[-1],s[len(s)-1]) # s[-1] = s[len(s)-1]\n",
    "copy = s[:] # start 0. last ind = len(s)\n",
    "print(copy)\n",
    "partial = s[:2]\n",
    "print(partial)\n",
    "print('Muhammad Abid Mughal'[::1]) # same as [:]\n",
    "print('Muhammad Abid Mughal'[::-1]) #−1 indicates that the slice should go from right to left instead of the usual left to right.\n",
    "print('Muhammad Abid Mughal'[::-2])\n",
    "print('Muhammad Abid Mughal'[8:2]) # no output\n",
    "print('Muhammad Abid Mughal[8:2:-1]','Muhammad Abid Mughal'[8:2:-1]) #[3] to [8]in reverse order\n",
    "#print ( '12' + 1 )\n",
    "print ( '12' + str(1) )\n",
    "\n",
    "print('*' * 80) # Repetition\n",
    "\n",
    "print('Modifying String')\n",
    "name = 'muhammad abid'\n",
    "#name[0] = 'M' # strings are immutable\n",
    "name = 'M' + name[1:] # new str obj\n",
    "print(name)\n",
    "name  = name.replace('M','m')\n",
    "print(name)\n",
    "#\n",
    "l = list(name)\n",
    "l[0] = 'M'\n",
    "l[9] = 'A'\n",
    "print(l)\n",
    "name = ''.join(l)\n",
    "print(name)\n",
    "\n",
    "\n",
    "\n",
    "print('*' * 80) # Repetition\n",
    "name = 'Zain'\n",
    "age = 30;\n",
    "city = 'Lahore'\n",
    "format = 'zain age is %d. He lives in %s' % (age,city) # single val or tuple for multiple values\n",
    "print(format)\n",
    "format = 'zain age is {0}. He lives in {1}' . format (age,city)\n",
    "print(format)\n",
    "#'%(qty)d more %(food)s' % {'qty': 1, 'food': 'spam'}\n",
    "#'{0}, {1} and {2}'.format('spam', 'ham', 'eggs')\n",
    "#'{motto}, {pork} and {food}'.format(motto='spam', pork='ham', food='eggs')\n",
    "'''\n",
    "# Methods of Strings\n",
    "\n",
    "'''\n",
    "help(str.count)\n",
    "help(dir)\n",
    "help(str.find)\n",
    "'''"
   ]
  },
  {
   "cell_type": "code",
   "execution_count": 3,
   "metadata": {},
   "outputs": [
    {
     "data": {
      "text/plain": [
       "['__add__',\n",
       " '__class__',\n",
       " '__contains__',\n",
       " '__delattr__',\n",
       " '__dir__',\n",
       " '__doc__',\n",
       " '__eq__',\n",
       " '__format__',\n",
       " '__ge__',\n",
       " '__getattribute__',\n",
       " '__getitem__',\n",
       " '__getnewargs__',\n",
       " '__gt__',\n",
       " '__hash__',\n",
       " '__init__',\n",
       " '__init_subclass__',\n",
       " '__iter__',\n",
       " '__le__',\n",
       " '__len__',\n",
       " '__lt__',\n",
       " '__mod__',\n",
       " '__mul__',\n",
       " '__ne__',\n",
       " '__new__',\n",
       " '__reduce__',\n",
       " '__reduce_ex__',\n",
       " '__repr__',\n",
       " '__rmod__',\n",
       " '__rmul__',\n",
       " '__setattr__',\n",
       " '__sizeof__',\n",
       " '__str__',\n",
       " '__subclasshook__',\n",
       " 'capitalize',\n",
       " 'casefold',\n",
       " 'center',\n",
       " 'count',\n",
       " 'encode',\n",
       " 'endswith',\n",
       " 'expandtabs',\n",
       " 'find',\n",
       " 'format',\n",
       " 'format_map',\n",
       " 'index',\n",
       " 'isalnum',\n",
       " 'isalpha',\n",
       " 'isascii',\n",
       " 'isdecimal',\n",
       " 'isdigit',\n",
       " 'isidentifier',\n",
       " 'islower',\n",
       " 'isnumeric',\n",
       " 'isprintable',\n",
       " 'isspace',\n",
       " 'istitle',\n",
       " 'isupper',\n",
       " 'join',\n",
       " 'ljust',\n",
       " 'lower',\n",
       " 'lstrip',\n",
       " 'maketrans',\n",
       " 'partition',\n",
       " 'removeprefix',\n",
       " 'removesuffix',\n",
       " 'replace',\n",
       " 'rfind',\n",
       " 'rindex',\n",
       " 'rjust',\n",
       " 'rpartition',\n",
       " 'rsplit',\n",
       " 'rstrip',\n",
       " 'split',\n",
       " 'splitlines',\n",
       " 'startswith',\n",
       " 'strip',\n",
       " 'swapcase',\n",
       " 'title',\n",
       " 'translate',\n",
       " 'upper',\n",
       " 'zfill']"
      ]
     },
     "execution_count": 3,
     "metadata": {},
     "output_type": "execute_result"
    }
   ],
   "source": [
    "dir(str)"
   ]
  },
  {
   "attachments": {},
   "cell_type": "markdown",
   "metadata": {},
   "source": [
    "### Lists (Mutable)\n",
    "- __Ordered__ collections of arbitrary objects\n",
    "- __Arrays__ of object references\n",
    "- List are sequences like strings and tuples so common operations (+, *, len(), indexing, in ) on sequences apply to them as well"
   ]
  },
  {
   "cell_type": "code",
   "execution_count": 51,
   "metadata": {},
   "outputs": [
    {
     "name": "stdout",
     "output_type": "stream",
     "text": [
      "['abid', [12, 13]]\n",
      "['abid', [12, 13]]\n",
      "['Arif', [12, 13]]\n",
      "['abid', [12, 13]]\n",
      "['Arif', [222, 13]]\n",
      "['abid', [222, 13]]\n",
      "['abid', [222, 13]]\n",
      "['abid', [12, 13]]\n"
     ]
    }
   ],
   "source": [
    "\n",
    "L1 = [1,2,3,4 ]\n",
    "L2 = [1,2,3,4 ]\n",
    "L3 = L1 + L2\n",
    "print(L3)\n",
    "print(L1)\n",
    "print(L2)\n",
    "print (L1 * 4,'its len: ',len (L1 * 4))\n",
    "mixed = [1,2.5,'str']\n",
    "print(mixed)\n",
    "matrix = [[1, 2, 3], [4, 5, 6], [7, 8, 9]]\n",
    "print(matrix[2])\n",
    "print(matrix[2][2])\n",
    "L = []\n",
    "#L[0] = 12 # index out of range\n",
    "#L= L + 12 #can only concatenate list (not \"int\") to list\n",
    "L = L + [12]\n",
    "L.append(14) # any single obj\n",
    "print(L)\n",
    "L1[0:2] = [8,9] # deletion and insertion\n",
    "print(L1)\n",
    "L1[0:2] = [88,98,108] # more items to insert\n",
    "print(L1)\n",
    "L1[1:1] = [880,980,1080] # only insertion (at index 1)\n",
    "print(L1)\n",
    "L1[:3] = [] # deletion\n",
    "print(L1)\n",
    "#insert at the end of a list L[len(L):] = [,,,]\n",
    "#L.extend([8, 9, 10]) ; compare it with append\n",
    "#L.sort()\n",
    "#L.sort(key=str.lower)\n",
    "#L.sort(key=str.lower, reverse=True)\n",
    "#dont wanna change list\n",
    "L = ['abc', 'ABD', 'aBe']\n",
    "L_sorted = sorted(L, key=str.lower, reverse=True)\n",
    "print(L_sorted)\n",
    "print(L)\n",
    "L.pop() # Delete and return last item (by default: −1)\n",
    "L.reverse() # In-place reversal method\n",
    "#dont wanna change list\n",
    "L_reversed = list(reversed(L) ) # reversed(L) ret iterator\n",
    "print(L)\n",
    "print(L_reversed)\n",
    "#\n",
    "print ( L.index('ABD') ) #raised an exception\n",
    "#L.remove('ABD') # Delete by value\n",
    "L.insert(1,'123') #any obj\n",
    "print(L)\n",
    "#L.count('spam') # Number of occurrences\n",
    "#del L[0]\n",
    "#del L[2:5]\n",
    "\n",
    "#\n",
    "L = ['abid',[12,13]]\n",
    "L_dup = L[:]\n",
    "#print(id(L[0]) , id(L[1])) \n",
    "#print(id(L_dup[0]) , id(L_dup[1])) \n",
    "print(L)\n",
    "print(L_dup)\n",
    "L[0] = 'Arif'\n",
    "#print(id(L[0]) , id(L[1])) \n",
    "#print(id(L_dup[0]) , id(L_dup[1])) \n",
    "print(L)\n",
    "print(L_dup)\n",
    "L[1][0] = 222\n",
    "#print(id(L[0]) , id(L[1])) \n",
    "#print(id(L_dup[0]) , id(L_dup[1]))\n",
    "print(L)\n",
    "print(L_dup)\n",
    "#\n",
    "#deep copy\n",
    "import copy\n",
    "L = ['abid',[12,13]]\n",
    "L_dup = copy.deepcopy(L)\n",
    "L[1][0] = 222\n",
    "print(L)\n",
    "print(L_dup)\n",
    "\n"
   ]
  },
  {
   "attachments": {},
   "cell_type": "markdown",
   "metadata": {},
   "source": [
    "### Dictionaries (Mutable)\n",
    "- unordered collections\n",
    "- items are stored and fetched by key, instead of by positional offset\n",
    "- dictionaries take the place of records, search tables, and any other sort of aggregation where item names are more meaningful than item positions.\n",
    "- dictionaries are unordered tables of object references that support access by key.\n",
    "- Internally, dictionaries are implemented as hash tables\n",
    "- keys can be any immutable objects (numbers, strings, tuples,frozen sets)"
   ]
  },
  {
   "cell_type": "code",
   "execution_count": 74,
   "metadata": {},
   "outputs": [
    {
     "name": "stdout",
     "output_type": "stream",
     "text": [
      "{'food': 'Spam', 'quantity': 4, 'color': 'pink'}\n",
      "4\n",
      "len 3\n",
      "keys ['food', 'quantity', 'color']\n",
      "values ['Spam', 4, 'pink']\n",
      "items [('food', 'Spam'), ('quantity', 4), ('color', 'pink')]\n",
      "Spam\n",
      "None\n",
      "default\n",
      "{'food': 'Spam', 'quantity': 4, 'color': 'pink'}\n",
      "default\n",
      "{'food': 'Spam', 'quantity': 4, 'color': 'pink', 'foo': 'default'}\n",
      "Help on built-in function update:\n",
      "\n",
      "update(...) method of builtins.dict instance\n",
      "    D.update([E, ]**F) -> None.  Update D from dict/iterable E and F.\n",
      "    If E is present and has a .keys() method, then does:  for k in E: D[k] = E[k]\n",
      "    If E is present and lacks a .keys() method, then does:  for k, v in E: D[k] = v\n",
      "    In either case, this is followed by: for k in F:  D[k] = F[k]\n",
      "\n"
     ]
    }
   ],
   "source": [
    "#Copy\n",
    "'''\n",
    "D_copy = D.copy()\n",
    "print( D  == D_copy , D  is D_copy) \n",
    "print( D['color'] == D_copy['color'] , D['color'] is D_copy['color'])\n",
    "print( D['food'] == D_copy['food'] , D['food'] is D_copy['food'])\n",
    "print( D['quantity'] == D_copy['quantity'] , D['quantity'] is D_copy['quantity'])\n",
    "#after change\n",
    "D['food'] = 'Apple'\n",
    "print( D['food'] == D_copy['food'] , D['food'] is D_copy['food'])\n",
    "D['color'][1] = 'green'\n",
    "print( D['color'] == D_copy['color'] , D['color'] is D_copy['color'])\n",
    "print( D   , D_copy) \n",
    "D = {'food': 'Spam', 'quantity': 4, 'color': {1: 'pink', 2:'red'}}\n",
    "import copy\n",
    "D_copy = copy.deepcopy(D)\n",
    "print( D['color'] == D_copy['color'] , D['color'] is D_copy['color']) #mutable obj\n",
    "print( D['food'] == D_copy['food'] , D['food'] is D_copy['food'])\n",
    "print( D['quantity'] == D_copy['quantity'] , D['quantity'] is D_copy['quantity'])\n",
    "'''\n",
    "D = {'food': 'Spam', 'quantity': 4, 'color': 'pink'}\n",
    "print(D)\n",
    "print(D['quantity'])\n",
    "print('len', len(D))\n",
    "print('keys', list (D.keys())) # ret iterable object so needed list function to display\n",
    "print('values', list (D.values()))\n",
    "print('items', list (D.items()))\n",
    "#del D['food']\n",
    "print(D.get('food'))\n",
    "print(D.get('foo')) #key not present\n",
    "print(D.get('foo','default')) #key not present\n",
    "print(D)\n",
    "print (D.setdefault('foo','default') )\n",
    "print(D)\n",
    "#help ( D.update )\n",
    "#D.pop(key) # # Delete and return from a key\n",
    "#Using dictionaries for sparse data structures: Tuple keys\n",
    "\n"
   ]
  },
  {
   "attachments": {},
   "cell_type": "markdown",
   "metadata": {},
   "source": [
    "### Tuples (Immutable)\n",
    "- Ordered collections of arbitrary objects\n",
    "- Accessed by offset\n",
    "- Arrays of object references"
   ]
  },
  {
   "cell_type": "code",
   "execution_count": 6,
   "metadata": {},
   "outputs": [
    {
     "name": "stdout",
     "output_type": "stream",
     "text": [
      "(1, 2, 3)\n"
     ]
    }
   ],
   "source": [
    "t = (1,2,3)\n",
    "print(t)"
   ]
  },
  {
   "attachments": {},
   "cell_type": "markdown",
   "metadata": {},
   "source": [
    "### Sets"
   ]
  },
  {
   "cell_type": "code",
   "execution_count": 7,
   "metadata": {},
   "outputs": [
    {
     "name": "stdout",
     "output_type": "stream",
     "text": [
      "{'z', 'y', 'x'}\n"
     ]
    }
   ],
   "source": [
    "s = {'x','y','z','x'}\n",
    "ss = set('xxyz')\n",
    "print(ss)"
   ]
  },
  {
   "attachments": {},
   "cell_type": "markdown",
   "metadata": {},
   "source": [
    "### file objects"
   ]
  },
  {
   "cell_type": "code",
   "execution_count": 8,
   "metadata": {},
   "outputs": [
    {
     "ename": "FileNotFoundError",
     "evalue": "[Errno 2] No such file or directory: '1.introduction.ipynb'",
     "output_type": "error",
     "traceback": [
      "\u001b[0;31m---------------------------------------------------------------------------\u001b[0m",
      "\u001b[0;31mFileNotFoundError\u001b[0m                         Traceback (most recent call last)",
      "Cell \u001b[0;32mIn[8], line 1\u001b[0m\n\u001b[0;32m----> 1\u001b[0m f \u001b[39m=\u001b[39m \u001b[39mopen\u001b[39;49m(\u001b[39m'\u001b[39;49m\u001b[39m1.introduction.ipynb\u001b[39;49m\u001b[39m'\u001b[39;49m,\u001b[39m'\u001b[39;49m\u001b[39mr\u001b[39;49m\u001b[39m'\u001b[39;49m)\n",
      "File \u001b[0;32m~/anaconda3/envs/pythonClass/lib/python3.9/site-packages/IPython/core/interactiveshell.py:282\u001b[0m, in \u001b[0;36m_modified_open\u001b[0;34m(file, *args, **kwargs)\u001b[0m\n\u001b[1;32m    275\u001b[0m \u001b[39mif\u001b[39;00m file \u001b[39min\u001b[39;00m {\u001b[39m0\u001b[39m, \u001b[39m1\u001b[39m, \u001b[39m2\u001b[39m}:\n\u001b[1;32m    276\u001b[0m     \u001b[39mraise\u001b[39;00m \u001b[39mValueError\u001b[39;00m(\n\u001b[1;32m    277\u001b[0m         \u001b[39mf\u001b[39m\u001b[39m\"\u001b[39m\u001b[39mIPython won\u001b[39m\u001b[39m'\u001b[39m\u001b[39mt let you open fd=\u001b[39m\u001b[39m{\u001b[39;00mfile\u001b[39m}\u001b[39;00m\u001b[39m by default \u001b[39m\u001b[39m\"\u001b[39m\n\u001b[1;32m    278\u001b[0m         \u001b[39m\"\u001b[39m\u001b[39mas it is likely to crash IPython. If you know what you are doing, \u001b[39m\u001b[39m\"\u001b[39m\n\u001b[1;32m    279\u001b[0m         \u001b[39m\"\u001b[39m\u001b[39myou can use builtins\u001b[39m\u001b[39m'\u001b[39m\u001b[39m open.\u001b[39m\u001b[39m\"\u001b[39m\n\u001b[1;32m    280\u001b[0m     )\n\u001b[0;32m--> 282\u001b[0m \u001b[39mreturn\u001b[39;00m io_open(file, \u001b[39m*\u001b[39;49margs, \u001b[39m*\u001b[39;49m\u001b[39m*\u001b[39;49mkwargs)\n",
      "\u001b[0;31mFileNotFoundError\u001b[0m: [Errno 2] No such file or directory: '1.introduction.ipynb'"
     ]
    }
   ],
   "source": [
    "f = open('1.DataTypes.ipynb','r')\n"
   ]
  }
 ],
 "metadata": {
  "kernelspec": {
   "display_name": "Python 3 (ipykernel)",
   "language": "python",
   "name": "python3"
  },
  "language_info": {
   "codemirror_mode": {
    "name": "ipython",
    "version": 3
   },
   "file_extension": ".py",
   "mimetype": "text/x-python",
   "name": "python",
   "nbconvert_exporter": "python",
   "pygments_lexer": "ipython3",
   "version": "3.9.15 (main, Nov 24 2022, 14:31:59) \n[GCC 11.2.0]"
  },
  "vscode": {
   "interpreter": {
    "hash": "c928bae514d38a6cfdefcb68867f667a5fd2c5328f32552e31c03ce2ee8b2013"
   }
  }
 },
 "nbformat": 4,
 "nbformat_minor": 2
}
