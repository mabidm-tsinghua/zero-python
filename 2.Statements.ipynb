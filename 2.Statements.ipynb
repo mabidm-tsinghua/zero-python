{
 "cells": [
  {
   "attachments": {},
   "cell_type": "markdown",
   "metadata": {},
   "source": [
    "### Assignment statement"
   ]
  },
  {
   "cell_type": "code",
   "execution_count": null,
   "metadata": {},
   "outputs": [],
   "source": [
    "nudge = 1 # Basic assignment\n",
    "wink = 2\n",
    "A, B = nudge, wink # Tuple assignment\n",
    "print (A, B) # Like A = nudge; B = wink\n",
    "[C, D] = [nudge, wink] # List assignment\n",
    "print (C, D)\n",
    "'''In fact, the original tuple and list assignment forms in Python have been generalized to\n",
    "accept any type of sequence (really, iterable) on the right as long as it is of the same\n",
    "length as the sequence on the left.'''\n",
    "\n",
    "j,k = (1,2),[3,4,5] #mixed values\n",
    "print(j,k)\n",
    "(a, b, c) = \"ABC\"\n",
    "print(a,b,c,)\n",
    "'''same number of items on the right as we have variables on the left'''\n",
    "string = 'SPAM'\n",
    "a, b, c, d = string\n",
    "#a, b, c = string #ValueError: too many values to unpack (expected 3)\n",
    "#Extended Sequence Unpacking in Python 3.X\n",
    "a, b, *c = string\n",
    "print(a,b,c)\n",
    "*a, b, c = string\n",
    "print(a,b,c)\n",
    "a, *b, c = string\n",
    "print(a,b,c)\n",
    "#Multiple-Target Assignments and shared references\n",
    "a = b = c = 'spam'\n",
    "a = b = []\n",
    "b.append(42)\n",
    "print(a, b)\n",
    "#Augmented Assignments\n",
    "L = [1, 2]\n",
    "L.extend([7, 8]) # avoid using L = L + [78] it is slow as concat always creates a new obj\n",
    "L += [9, 10] # Mapped to L.extend([9, 10])\n",
    "#check out difference\n",
    "L = []\n",
    "L += 'spam' # += and extend allow any sequence, but + does not!\n",
    "print(L)\n",
    "#L = L + 'spam' TypeError: can only concatenate list (not \"str\") to list\n"
   ]
  },
  {
   "cell_type": "code",
   "execution_count": null,
   "metadata": {},
   "outputs": [],
   "source": [
    "### Conditional Statement"
   ]
  },
  {
   "cell_type": "code",
   "execution_count": 16,
   "metadata": {},
   "outputs": [
    {
     "name": "stdout",
     "output_type": "stream",
     "text": [
      "Bad choice\n",
      "low\n",
      "Y\n"
     ]
    }
   ],
   "source": [
    "dic = {'spam': 1.25, 'ham': 1.99, 'eggs': 0.99,'bacon': 1.10}\n",
    "choice = input('Enter text:')\n",
    "if choice == 'spam': # The equivalent if statement\n",
    "    print(1.25)\n",
    "elif choice == 'ham':\n",
    "    print(1.99)\n",
    "elif choice == 'eggs':\n",
    "    print(0.99)\n",
    "elif choice == 'bacon':\n",
    "    print(1.10)\n",
    "else:\n",
    "    print('Bad choice')\n",
    "#\n",
    "# #    \n",
    "reply = input('Enter text:')\n",
    "if reply == 'stop':\n",
    "    print(reply)\n",
    "elif not reply.isdigit():\n",
    "    print('Bad!' * 8)\n",
    "else:\n",
    "    num = int(reply)\n",
    "    if num < 20:\n",
    "        print('low')\n",
    "    else:\n",
    "        print(num ** 2)\n",
    "\n",
    "#\n",
    "A = 'Y' if True else 'N'\n",
    "print(A)\n",
    "\n"
   ]
  },
  {
   "attachments": {},
   "cell_type": "markdown",
   "metadata": {},
   "source": [
    "### Loops"
   ]
  },
  {
   "cell_type": "code",
   "execution_count": 24,
   "metadata": {},
   "outputs": [
    {
     "name": "stdout",
     "output_type": "stream",
     "text": [
      "spam eggs ham 1 2\n",
      "3 4\n",
      "5 6\n",
      "a => 1\n",
      "b => 2\n",
      "c => 3\n",
      "a => 1\n",
      "b => 2\n",
      "c => 3\n"
     ]
    }
   ],
   "source": [
    "'''\n",
    "x = 'spam'\n",
    "while x: # While x is not empty\n",
    "    print(x, end=' ') \n",
    "    x = x[1:]\n",
    "\n",
    "#\n",
    "# \n",
    "a=0; b=10\n",
    "while a < b: # One way to code counter loops\n",
    "    print(a, end=' ')\n",
    "    a += 1 \n",
    "\n",
    "#\n",
    "print()\n",
    "num = input('Enter number:') \n",
    "num = int (num)\n",
    "a  = 1\n",
    "while a <= 10:\n",
    "    print(num,'*',a,'=',num*a)\n",
    "    a += 1\n",
    "else:\n",
    "    print('table generated')    \n",
    "'''\n",
    "for x in [\"spam\", \"eggs\", \"ham\"]:\n",
    "    print(x, end=' ')  \n",
    "#List\n",
    "sum = 0\n",
    "for x in [1, 2, 3, 4]:\n",
    "    sum = sum + x   \n",
    "#Tuples\n",
    "T = [(1, 2), (3, 4), (5, 6)]\n",
    "for (a, b) in T: # Tuple assignment at work\n",
    "    print(a, b)  \n",
    "#dict\n",
    "D = {'a': 1, 'b': 2, 'c': 3}\n",
    "for key in D:\n",
    "    print(key, '=>', D[key])\n",
    "#or\n",
    "for (key, value) in D.items():\n",
    "    print(key, '=>', value)             \n",
    "\n"
   ]
  }
 ],
 "metadata": {
  "kernelspec": {
   "display_name": "pythonClass",
   "language": "python",
   "name": "python3"
  },
  "language_info": {
   "codemirror_mode": {
    "name": "ipython",
    "version": 3
   },
   "file_extension": ".py",
   "mimetype": "text/x-python",
   "name": "python",
   "nbconvert_exporter": "python",
   "pygments_lexer": "ipython3",
   "version": "3.9.15"
  },
  "orig_nbformat": 4,
  "vscode": {
   "interpreter": {
    "hash": "c928bae514d38a6cfdefcb68867f667a5fd2c5328f32552e31c03ce2ee8b2013"
   }
  }
 },
 "nbformat": 4,
 "nbformat_minor": 2
}
