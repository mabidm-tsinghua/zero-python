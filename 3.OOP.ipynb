{
 "cells": [
  {
   "attachments": {},
   "cell_type": "markdown",
   "metadata": {},
   "source": [
    "### Classes"
   ]
  },
  {
   "cell_type": "code",
   "execution_count": 11,
   "metadata": {},
   "outputs": [
    {
     "name": "stdout",
     "output_type": "stream",
     "text": [
      "__str__ [Person: Bob Smith, 0, 12]\n",
      "__str__ [Person: Sue Jones, 100000, 12]\n"
     ]
    }
   ],
   "source": [
    "class Person:\n",
    "    sharedvalue = 12\n",
    "    def __init__(self, name, job=None, pay=0):\n",
    "        self.name = name\n",
    "        self.job = job\n",
    "        self.pay = pay\n",
    "    def lastName(self):\n",
    "        return self.name.split()[-1]\n",
    "    def giveRaise(self, percent):\n",
    "        self.pay = int(self.pay * (1 + percent))\n",
    "        '''Technically, __str__ is preferred by print and str, and __repr__ is used as a fallback\n",
    "            for these roles and in all other contexts. Although the two can be used to implement different displays in different contexts, coding just __repr__ alone suffices to give a\n",
    "            single display in all cases—prints, nested appearances, and interactive echoes.'''\n",
    "   \n",
    "    def __repr__(self): # Added method\n",
    "        return '__repr__ [Person: %s, %s]' % (self.name, self.pay) # String to print\n",
    "    \n",
    "    def __str__(self): # Added method\n",
    "        return '__str__ [Person: %s, %s, %s]' % (self.name, self.pay, Person.sharedvalue) # String to print    \n",
    "#'''\n",
    "#   \n",
    "\n",
    "\n",
    "if __name__ == '__main__':\n",
    "    bob = Person('Bob Smith')\n",
    "    sue = Person('Sue Jones', job='dev', pay=100000)\n",
    "    print(bob)\n",
    "    #print ( str(bob) )\n",
    "    print(sue)\n",
    "    #print(bob.lastName(), sue.lastName())\n",
    "    #sue.giveRaise(.10)\n",
    "    #print(sue)"
   ]
  },
  {
   "attachments": {},
   "cell_type": "markdown",
   "metadata": {},
   "source": [
    "### Inheritence (“Is-a” Relationships)"
   ]
  },
  {
   "cell_type": "code",
   "execution_count": null,
   "metadata": {},
   "outputs": [],
   "source": [
    "class Manager(Person):\n",
    "    def giveRaise(self, percent, bonus=.10): # Redefine at this level\n",
    "        Person.giveRaise(self, percent + bonus) # Call Person's version\n",
    "\n",
    "#\n",
    "# \n",
    "if __name__ == '__main__':\n",
    "    bob = Person('Bob Smith')\n",
    "    sue = Person('Sue Jones', job='dev', pay=100000)\n",
    "    print(bob)\n",
    "    print(sue)\n",
    "    print('Last Names: ',bob.lastName(), sue.lastName())\n",
    "    sue.giveRaise(.10)\n",
    "    print(sue)\n",
    "    tom = Manager('Tom Jones', 'mgr', 50000) # Make a Manager: __init__\n",
    "    tom.giveRaise(.10) # Runs custom version\n",
    "    print(tom.lastName()) # Runs inherited method\n",
    "    print(tom) # Runs inherited __repr__   \n",
    "    "
   ]
  },
  {
   "cell_type": "code",
   "execution_count": null,
   "metadata": {},
   "outputs": [],
   "source": [
    "#pizza shop team\n",
    "class Employee:\n",
    "    def __init__(self, name, salary=0):\n",
    "        self.name = name\n",
    "        self.salary = salary\n",
    "    def giveRaise(self, percent):\n",
    "        self.salary = self.salary + (self.salary * percent)\n",
    "    def work(self):\n",
    "        print(self.name, \"does stuff\")\n",
    "    def __repr__(self):\n",
    "        return \"<Employee: name=%s, salary=%s>\" % (self.name, self.salary)\n",
    "#\n",
    "#\n",
    "class Chef(Employee):\n",
    "    def __init__(self, name):\n",
    "        Employee.__init__(self, name, 50000)\n",
    "    def work(self):\n",
    "        print(self.name, \"makes food\")   \n",
    "#\n",
    "#\n",
    "class Server(Employee):\n",
    "    def __init__(self, name):\n",
    "        Employee.__init__(self, name, 40000)\n",
    "    def work(self):\n",
    "        print(self.name, \"interfaces with customer\")\n",
    "#\n",
    "# \n",
    "class PizzaRobot(Chef):\n",
    "    def __init__(self, name):\n",
    "        Chef.__init__(self, name)\n",
    "    def work(self):\n",
    "        print(self.name, \"makes pizza\")\n",
    "if __name__ == \"__main__\":\n",
    "    bob = PizzaRobot('bob') # Make a robot named bob\n",
    "    print(bob) # Run inherited __repr__\n",
    "    bob.work() # Run type-specific action\n",
    "    bob.giveRaise(0.20) # Give bob a 20% raise\n",
    "    print(bob); print()\n",
    "    for klass in Employee, Chef, Server, PizzaRobot:\n",
    "        obj = klass(klass.__name__)\n",
    "        obj.work()\n",
    "dir(klass)    \n",
    "print(klass.__class__)  \n",
    "print(klass.__dict__)  "
   ]
  },
  {
   "attachments": {},
   "cell_type": "markdown",
   "metadata": {},
   "source": [
    "### Composition: (“Has-a” Relationships)"
   ]
  },
  {
   "cell_type": "code",
   "execution_count": null,
   "metadata": {},
   "outputs": [],
   "source": [
    "class Customer:\n",
    "    def __init__(self, name):\n",
    "        self.name = name\n",
    "    def order(self, server):\n",
    "        print(self.name, \"orders from\", server)\n",
    "    def pay(self, server):\n",
    "        print(self.name, \"pays for item to\", server)\n",
    "#\n",
    "class Oven:\n",
    "    def bake(self):\n",
    "        print(\"oven bakes\")\n",
    "#\n",
    "class PizzaShop:\n",
    "    \n",
    "    def __init__(self):\n",
    "        self.server = Server('Pat') # Embed other objects\n",
    "        self.chef = PizzaRobot('Bob') # A robot named bob\n",
    "        self.oven = Oven()\n",
    "    def order(self, name):\n",
    "        customer = Customer(name) # Activate other objects\n",
    "        customer.order(self.server) # Customer orders from server\n",
    "        self.chef.work()\n",
    "        self.oven.bake()\n",
    "        customer.pay(self.server)\n",
    "if __name__ == \"__main__\":\n",
    "    scene = PizzaShop() # Make the composite\n",
    "    scene.order('Homer') # Simulate Homer's order\n",
    "    print('...')\n",
    "    scene.order('Shaggy') # Simulate Shaggy's order"
   ]
  }
 ],
 "metadata": {
  "kernelspec": {
   "display_name": "pythonClass",
   "language": "python",
   "name": "python3"
  },
  "language_info": {
   "codemirror_mode": {
    "name": "ipython",
    "version": 3
   },
   "file_extension": ".py",
   "mimetype": "text/x-python",
   "name": "python",
   "nbconvert_exporter": "python",
   "pygments_lexer": "ipython3",
   "version": "3.9.15 (main, Nov 24 2022, 14:31:59) \n[GCC 11.2.0]"
  },
  "orig_nbformat": 4,
  "vscode": {
   "interpreter": {
    "hash": "c928bae514d38a6cfdefcb68867f667a5fd2c5328f32552e31c03ce2ee8b2013"
   }
  }
 },
 "nbformat": 4,
 "nbformat_minor": 2
}
